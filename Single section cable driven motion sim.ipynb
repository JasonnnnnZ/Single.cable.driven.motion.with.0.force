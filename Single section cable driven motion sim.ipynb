{
 "cells": [
  {
   "cell_type": "code",
   "execution_count": 1,
   "id": "723d1f49-c522-49db-a200-5424486ffb9e",
   "metadata": {},
   "outputs": [
    {
     "name": "stdout",
     "output_type": "stream",
     "text": [
      "Requirement already satisfied: pyelastica in c:\\users\\jasonlaptop\\anaconda3\\envs\\elastica-env\\lib\\site-packages (0.3.2)\n",
      "Requirement already satisfied: matplotlib<4.0.0,>=3.3.2 in c:\\users\\jasonlaptop\\anaconda3\\envs\\elastica-env\\lib\\site-packages (from pyelastica) (3.10.3)\n",
      "Requirement already satisfied: numba<0.58.0,>=0.57.0 in c:\\users\\jasonlaptop\\anaconda3\\envs\\elastica-env\\lib\\site-packages (from pyelastica) (0.57.1)\n",
      "Requirement already satisfied: numpy<2.0.0,>=1.19.2 in c:\\users\\jasonlaptop\\anaconda3\\envs\\elastica-env\\lib\\site-packages (from pyelastica) (1.24.4)\n",
      "Requirement already satisfied: pyvista<0.40.0,>=0.39.1 in c:\\users\\jasonlaptop\\anaconda3\\envs\\elastica-env\\lib\\site-packages (from pyelastica) (0.39.1)\n",
      "Requirement already satisfied: scipy<2.0.0,>=1.5.2 in c:\\users\\jasonlaptop\\anaconda3\\envs\\elastica-env\\lib\\site-packages (from pyelastica) (1.15.3)\n",
      "Requirement already satisfied: tqdm<5.0.0,>=4.61.1 in c:\\users\\jasonlaptop\\anaconda3\\envs\\elastica-env\\lib\\site-packages (from pyelastica) (4.67.1)\n",
      "Requirement already satisfied: contourpy>=1.0.1 in c:\\users\\jasonlaptop\\anaconda3\\envs\\elastica-env\\lib\\site-packages (from matplotlib<4.0.0,>=3.3.2->pyelastica) (1.3.2)\n",
      "Requirement already satisfied: cycler>=0.10 in c:\\users\\jasonlaptop\\anaconda3\\envs\\elastica-env\\lib\\site-packages (from matplotlib<4.0.0,>=3.3.2->pyelastica) (0.12.1)\n",
      "Requirement already satisfied: fonttools>=4.22.0 in c:\\users\\jasonlaptop\\anaconda3\\envs\\elastica-env\\lib\\site-packages (from matplotlib<4.0.0,>=3.3.2->pyelastica) (4.58.2)\n",
      "Requirement already satisfied: kiwisolver>=1.3.1 in c:\\users\\jasonlaptop\\anaconda3\\envs\\elastica-env\\lib\\site-packages (from matplotlib<4.0.0,>=3.3.2->pyelastica) (1.4.8)\n",
      "Requirement already satisfied: packaging>=20.0 in c:\\users\\jasonlaptop\\anaconda3\\envs\\elastica-env\\lib\\site-packages (from matplotlib<4.0.0,>=3.3.2->pyelastica) (25.0)\n",
      "Requirement already satisfied: pillow>=8 in c:\\users\\jasonlaptop\\anaconda3\\envs\\elastica-env\\lib\\site-packages (from matplotlib<4.0.0,>=3.3.2->pyelastica) (11.2.1)\n",
      "Requirement already satisfied: pyparsing>=2.3.1 in c:\\users\\jasonlaptop\\anaconda3\\envs\\elastica-env\\lib\\site-packages (from matplotlib<4.0.0,>=3.3.2->pyelastica) (3.2.3)\n",
      "Requirement already satisfied: python-dateutil>=2.7 in c:\\users\\jasonlaptop\\anaconda3\\envs\\elastica-env\\lib\\site-packages (from matplotlib<4.0.0,>=3.3.2->pyelastica) (2.9.0.post0)\n",
      "Requirement already satisfied: llvmlite<0.41,>=0.40.0dev0 in c:\\users\\jasonlaptop\\anaconda3\\envs\\elastica-env\\lib\\site-packages (from numba<0.58.0,>=0.57.0->pyelastica) (0.40.1)\n",
      "Requirement already satisfied: pooch in c:\\users\\jasonlaptop\\anaconda3\\envs\\elastica-env\\lib\\site-packages (from pyvista<0.40.0,>=0.39.1->pyelastica) (1.8.2)\n",
      "Requirement already satisfied: scooby>=0.5.1 in c:\\users\\jasonlaptop\\anaconda3\\envs\\elastica-env\\lib\\site-packages (from pyvista<0.40.0,>=0.39.1->pyelastica) (0.10.1)\n",
      "Requirement already satisfied: vtk in c:\\users\\jasonlaptop\\anaconda3\\envs\\elastica-env\\lib\\site-packages (from pyvista<0.40.0,>=0.39.1->pyelastica) (9.4.2)\n",
      "Requirement already satisfied: colorama in c:\\users\\jasonlaptop\\anaconda3\\envs\\elastica-env\\lib\\site-packages (from tqdm<5.0.0,>=4.61.1->pyelastica) (0.4.6)\n",
      "Requirement already satisfied: six>=1.5 in c:\\users\\jasonlaptop\\anaconda3\\envs\\elastica-env\\lib\\site-packages (from python-dateutil>=2.7->matplotlib<4.0.0,>=3.3.2->pyelastica) (1.17.0)\n",
      "Requirement already satisfied: platformdirs>=2.5.0 in c:\\users\\jasonlaptop\\anaconda3\\envs\\elastica-env\\lib\\site-packages (from pooch->pyvista<0.40.0,>=0.39.1->pyelastica) (4.3.8)\n",
      "Requirement already satisfied: requests>=2.19.0 in c:\\users\\jasonlaptop\\anaconda3\\envs\\elastica-env\\lib\\site-packages (from pooch->pyvista<0.40.0,>=0.39.1->pyelastica) (2.32.3)\n",
      "Requirement already satisfied: charset-normalizer<4,>=2 in c:\\users\\jasonlaptop\\anaconda3\\envs\\elastica-env\\lib\\site-packages (from requests>=2.19.0->pooch->pyvista<0.40.0,>=0.39.1->pyelastica) (3.4.2)\n",
      "Requirement already satisfied: idna<4,>=2.5 in c:\\users\\jasonlaptop\\anaconda3\\envs\\elastica-env\\lib\\site-packages (from requests>=2.19.0->pooch->pyvista<0.40.0,>=0.39.1->pyelastica) (3.10)\n",
      "Requirement already satisfied: urllib3<3,>=1.21.1 in c:\\users\\jasonlaptop\\anaconda3\\envs\\elastica-env\\lib\\site-packages (from requests>=2.19.0->pooch->pyvista<0.40.0,>=0.39.1->pyelastica) (2.4.0)\n",
      "Requirement already satisfied: certifi>=2017.4.17 in c:\\users\\jasonlaptop\\anaconda3\\envs\\elastica-env\\lib\\site-packages (from requests>=2.19.0->pooch->pyvista<0.40.0,>=0.39.1->pyelastica) (2025.4.26)\n",
      "Note: you may need to restart the kernel to use updated packages.\n"
     ]
    }
   ],
   "source": [
    "pip install pyelastica"
   ]
  },
  {
   "cell_type": "code",
   "execution_count": 2,
   "id": "d14eb91d-67bb-4706-bb27-b14559666ca0",
   "metadata": {},
   "outputs": [],
   "source": [
    "import numpy as np\n",
    "\n",
    "# Import modules\n",
    "from elastica.modules import BaseSystemCollection, Constraints, Forcing, Damping\n",
    "\n",
    "# Import Cosserat Rod Class\n",
    "from elastica.rod.cosserat_rod import CosseratRod\n",
    "\n",
    "# Import Damping Class\n",
    "from elastica.dissipation import AnalyticalLinearDamper\n",
    "\n",
    "# Import Boundary Condition Classes\n",
    "from elastica.boundary_conditions import OneEndFixedRod, FreeRod\n",
    "from elastica.external_forces import EndpointForces, UniformForces\n",
    "\n",
    "# Import Timestepping Functions\n",
    "from elastica.timestepper.symplectic_steppers import PositionVerlet\n",
    "from elastica.timestepper import integrate\n"
   ]
  },
  {
   "cell_type": "code",
   "execution_count": 3,
   "id": "69336bf4-6b86-41bf-928a-85acee7abc65",
   "metadata": {},
   "outputs": [
    {
     "name": "stdout",
     "output_type": "stream",
     "text": [
      "Name: pyelastica\n",
      "Version: 0.3.2\n",
      "Summary: Elastica is a software to simulate the dynamics of filaments that, at every cross-section, can undergo all six possible modes of deformation, allowing the filament to bend, twist, stretch and shear, while interacting with complex environments via muscular activity, surface contact, friction and hydrodynamics.\n",
      "Home-page: https://www.cosseratrods.org/\n",
      "Author: GazzolaLab\n",
      "Author-email: armant2@illinois.edu\n",
      "License: MIT\n",
      "Location: c:\\users\\jasonlaptop\\anaconda3\\envs\\elastica-env\\lib\\site-packages\n",
      "Requires: matplotlib, numba, numpy, pyvista, scipy, tqdm\n",
      "Required-by: \n",
      "Note: you may need to restart the kernel to use updated packages.\n"
     ]
    }
   ],
   "source": [
    "pip show pyelastica"
   ]
  },
  {
   "cell_type": "code",
   "execution_count": 4,
   "id": "50de6d38-4825-4cd9-9220-c70760844958",
   "metadata": {},
   "outputs": [
    {
     "name": "stdout",
     "output_type": "stream",
     "text": [
      "Name: numpy\n",
      "Version: 1.24.4\n",
      "Summary: Fundamental package for array computing in Python\n",
      "Home-page: https://www.numpy.org\n",
      "Author: Travis E. Oliphant et al.\n",
      "Author-email: \n",
      "License: BSD-3-Clause\n",
      "Location: c:\\users\\jasonlaptop\\anaconda3\\envs\\elastica-env\\lib\\site-packages\n",
      "Requires: \n",
      "Required-by: contourpy, matplotlib, numba, pyelastica, pyvista, scipy\n",
      "Note: you may need to restart the kernel to use updated packages.\n"
     ]
    }
   ],
   "source": [
    "pip show numpy"
   ]
  },
  {
   "cell_type": "code",
   "execution_count": 5,
   "id": "e0a0260d-3be0-44fc-852a-f736df1c488e",
   "metadata": {},
   "outputs": [
    {
     "name": "stdout",
     "output_type": "stream",
     "text": [
      "Name: matplotlib\n",
      "Version: 3.10.3\n",
      "Summary: Python plotting package\n",
      "Home-page: https://matplotlib.org\n",
      "Author: John D. Hunter, Michael Droettboom\n",
      "Author-email: Unknown <matplotlib-users@python.org>\n",
      "License: License agreement for matplotlib versions 1.3.0 and later\n",
      "         =========================================================\n",
      "         \n",
      "         1. This LICENSE AGREEMENT is between the Matplotlib Development Team\n",
      "         (\"MDT\"), and the Individual or Organization (\"Licensee\") accessing and\n",
      "         otherwise using matplotlib software in source or binary form and its\n",
      "         associated documentation.\n",
      "         \n",
      "         2. Subject to the terms and conditions of this License Agreement, MDT\n",
      "         hereby grants Licensee a nonexclusive, royalty-free, world-wide license\n",
      "         to reproduce, analyze, test, perform and/or display publicly, prepare\n",
      "         derivative works, distribute, and otherwise use matplotlib\n",
      "         alone or in any derivative version, provided, however, that MDT's\n",
      "         License Agreement and MDT's notice of copyright, i.e., \"Copyright (c)\n",
      "         2012- Matplotlib Development Team; All Rights Reserved\" are retained in\n",
      "         matplotlib  alone or in any derivative version prepared by\n",
      "         Licensee.\n",
      "         \n",
      "         3. In the event Licensee prepares a derivative work that is based on or\n",
      "         incorporates matplotlib or any part thereof, and wants to\n",
      "         make the derivative work available to others as provided herein, then\n",
      "         Licensee hereby agrees to include in any such work a brief summary of\n",
      "         the changes made to matplotlib .\n",
      "         \n",
      "         4. MDT is making matplotlib available to Licensee on an \"AS\n",
      "         IS\" basis.  MDT MAKES NO REPRESENTATIONS OR WARRANTIES, EXPRESS OR\n",
      "         IMPLIED.  BY WAY OF EXAMPLE, BUT NOT LIMITATION, MDT MAKES NO AND\n",
      "         DISCLAIMS ANY REPRESENTATION OR WARRANTY OF MERCHANTABILITY OR FITNESS\n",
      "         FOR ANY PARTICULAR PURPOSE OR THAT THE USE OF MATPLOTLIB\n",
      "         WILL NOT INFRINGE ANY THIRD PARTY RIGHTS.\n",
      "         \n",
      "         5. MDT SHALL NOT BE LIABLE TO LICENSEE OR ANY OTHER USERS OF MATPLOTLIB\n",
      "          FOR ANY INCIDENTAL, SPECIAL, OR CONSEQUENTIAL DAMAGES OR\n",
      "         LOSS AS A RESULT OF MODIFYING, DISTRIBUTING, OR OTHERWISE USING\n",
      "         MATPLOTLIB , OR ANY DERIVATIVE THEREOF, EVEN IF ADVISED OF\n",
      "         THE POSSIBILITY THEREOF.\n",
      "         \n",
      "         6. This License Agreement will automatically terminate upon a material\n",
      "         breach of its terms and conditions.\n",
      "         \n",
      "         7. Nothing in this License Agreement shall be deemed to create any\n",
      "         relationship of agency, partnership, or joint venture between MDT and\n",
      "         Licensee.  This License Agreement does not grant permission to use MDT\n",
      "         trademarks or trade name in a trademark sense to endorse or promote\n",
      "         products or services of Licensee, or any third party.\n",
      "         \n",
      "         8. By copying, installing or otherwise using matplotlib ,\n",
      "         Licensee agrees to be bound by the terms and conditions of this License\n",
      "         Agreement.\n",
      "         \n",
      "         License agreement for matplotlib versions prior to 1.3.0\n",
      "         ========================================================\n",
      "         \n",
      "         1. This LICENSE AGREEMENT is between John D. Hunter (\"JDH\"), and the\n",
      "         Individual or Organization (\"Licensee\") accessing and otherwise using\n",
      "         matplotlib software in source or binary form and its associated\n",
      "         documentation.\n",
      "         \n",
      "         2. Subject to the terms and conditions of this License Agreement, JDH\n",
      "         hereby grants Licensee a nonexclusive, royalty-free, world-wide license\n",
      "         to reproduce, analyze, test, perform and/or display publicly, prepare\n",
      "         derivative works, distribute, and otherwise use matplotlib\n",
      "         alone or in any derivative version, provided, however, that JDH's\n",
      "         License Agreement and JDH's notice of copyright, i.e., \"Copyright (c)\n",
      "         2002-2011 John D. Hunter; All Rights Reserved\" are retained in\n",
      "         matplotlib  alone or in any derivative version prepared by\n",
      "         Licensee.\n",
      "         \n",
      "         3. In the event Licensee prepares a derivative work that is based on or\n",
      "         incorporates matplotlib  or any part thereof, and wants to\n",
      "         make the derivative work available to others as provided herein, then\n",
      "         Licensee hereby agrees to include in any such work a brief summary of\n",
      "         the changes made to matplotlib.\n",
      "         \n",
      "         4. JDH is making matplotlib  available to Licensee on an \"AS\n",
      "         IS\" basis.  JDH MAKES NO REPRESENTATIONS OR WARRANTIES, EXPRESS OR\n",
      "         IMPLIED.  BY WAY OF EXAMPLE, BUT NOT LIMITATION, JDH MAKES NO AND\n",
      "         DISCLAIMS ANY REPRESENTATION OR WARRANTY OF MERCHANTABILITY OR FITNESS\n",
      "         FOR ANY PARTICULAR PURPOSE OR THAT THE USE OF MATPLOTLIB\n",
      "         WILL NOT INFRINGE ANY THIRD PARTY RIGHTS.\n",
      "         \n",
      "         5. JDH SHALL NOT BE LIABLE TO LICENSEE OR ANY OTHER USERS OF MATPLOTLIB\n",
      "          FOR ANY INCIDENTAL, SPECIAL, OR CONSEQUENTIAL DAMAGES OR\n",
      "         LOSS AS A RESULT OF MODIFYING, DISTRIBUTING, OR OTHERWISE USING\n",
      "         MATPLOTLIB , OR ANY DERIVATIVE THEREOF, EVEN IF ADVISED OF\n",
      "         THE POSSIBILITY THEREOF.\n",
      "         \n",
      "         6. This License Agreement will automatically terminate upon a material\n",
      "         breach of its terms and conditions.\n",
      "         \n",
      "         7. Nothing in this License Agreement shall be deemed to create any\n",
      "         relationship of agency, partnership, or joint venture between JDH and\n",
      "         Licensee.  This License Agreement does not grant permission to use JDH\n",
      "         trademarks or trade name in a trademark sense to endorse or promote\n",
      "         products or services of Licensee, or any third party.\n",
      "         \n",
      "         8. By copying, installing or otherwise using matplotlib,\n",
      "         Licensee agrees to be bound by the terms and conditions of this License\n",
      "         Agreement.\n",
      "Location: c:\\users\\jasonlaptop\\anaconda3\\envs\\elastica-env\\lib\\site-packages\n",
      "Requires: contourpy, cycler, fonttools, kiwisolver, numpy, packaging, pillow, pyparsing, python-dateutil\n",
      "Required-by: pyelastica, pyvista, vtk\n",
      "Note: you may need to restart the kernel to use updated packages.\n"
     ]
    }
   ],
   "source": [
    "pip show matplotlib"
   ]
  },
  {
   "cell_type": "code",
   "execution_count": 6,
   "id": "80b971ff-926e-473d-a7f5-9684dd575fa8",
   "metadata": {},
   "outputs": [],
   "source": [
    "class SingleSectionSimulator(BaseSystemCollection, Constraints, Forcing, Damping):\n",
    "    pass\n",
    "\n",
    "\n",
    "SSsim = SingleSectionSimulator()"
   ]
  },
  {
   "cell_type": "code",
   "execution_count": 7,
   "id": "0c920191-ec2e-4416-9da6-5adbbe8c77d7",
   "metadata": {},
   "outputs": [],
   "source": [
    "#setting up parameters\n",
    "n_elem = 100\n",
    "#density = 1000\n",
    "density = 7800     # kg/m^3\n",
    "nu = 1e-4     #poisson ratio\n",
    "#E = 1e6     #Young's modulus\n",
    "E = 207e9\n",
    "G = E / (nu + 1.0)     #shear modulues\n",
    "\n",
    "start = np.zeros((3,))\n",
    "direction = np.array([0.0, 0.0, 1.0])\n",
    "normal = np.array([0.0, 1.0, 0.0])\n",
    "#base_length = 3.0\n",
    "base_length = 0.4\n",
    "#base_radius = 0.25\n",
    "base_radius = 0.001\n",
    "base_area = np.pi * base_radius ** 2"
   ]
  },
  {
   "cell_type": "code",
   "execution_count": 8,
   "id": "db46b73c-969a-47a9-b5ed-52a4bce71454",
   "metadata": {},
   "outputs": [],
   "source": [
    "#Create Rod\n",
    "rod = CosseratRod.straight_rod(\n",
    "    n_elem,\n",
    "    start,\n",
    "    direction,\n",
    "    normal,\n",
    "    base_length,\n",
    "    base_radius,\n",
    "    density,\n",
    "    youngs_modulus=E,\n",
    "    shear_modulus=G,\n",
    ")\n",
    "\n",
    "SSsim.append(rod)"
   ]
  },
  {
   "cell_type": "code",
   "execution_count": 9,
   "id": "9190b4f6-7128-4fde-af99-90dab51bc408",
   "metadata": {},
   "outputs": [
    {
     "data": {
      "text/plain": [
       "<elastica.modules.damping._Damper at 0x13e91f19e70>"
      ]
     },
     "execution_count": 9,
     "metadata": {},
     "output_type": "execute_result"
    }
   ],
   "source": [
    "#adding damping\n",
    "dl = base_length / n_elem\n",
    "dt = 0.01 * dl\n",
    "SSsim.dampen(rod).using(\n",
    "    AnalyticalLinearDamper,\n",
    "    damping_constant=nu,\n",
    "    time_step=dt,\n",
    ")"
   ]
  },
  {
   "cell_type": "code",
   "execution_count": 10,
   "id": "2357114d-0b93-400b-82b0-f949827fc883",
   "metadata": {},
   "outputs": [
    {
     "data": {
      "text/plain": [
       "<elastica.modules.constraints._Constraint at 0x13e91ef2e00>"
      ]
     },
     "execution_count": 10,
     "metadata": {},
     "output_type": "execute_result"
    }
   ],
   "source": [
    "#Boundary Conditions\n",
    "SSsim.constrain(rod).using(\n",
    "    OneEndFixedRod, constrained_position_idx=(0,), constrained_director_idx=(0,)\n",
    ")"
   ]
  },
  {
   "cell_type": "code",
   "execution_count": 11,
   "id": "cc61fa55-5322-4ff3-95b2-98b1b1d07442",
   "metadata": {},
   "outputs": [
    {
     "name": "stdout",
     "output_type": "stream",
     "text": [
      "one end of the rod is fixed\n"
     ]
    }
   ],
   "source": [
    "print(\"one end of the rod is fixed\")"
   ]
  },
  {
   "cell_type": "code",
   "execution_count": 12,
   "id": "de18aec6-3b91-4963-8cd8-b5b1ced42f8d",
   "metadata": {},
   "outputs": [
    {
     "name": "stdout",
     "output_type": "stream",
     "text": [
      "Uniform Forces Added\n"
     ]
    }
   ],
   "source": [
    "#apply forces\n",
    "uniform_force = np.array([-10.0, 0.0, 0.0])\n",
    "\n",
    "SSsim.add_forcing_to(rod).using(\n",
    "    UniformForces, force=uniform_force\n",
    ")\n",
    "print(\"Uniform Forces Added\")"
   ]
  },
  {
   "cell_type": "code",
   "execution_count": 13,
   "id": "b7b41de5-58f2-44c0-aebb-0a2e125c36cc",
   "metadata": {},
   "outputs": [
    {
     "name": "stdout",
     "output_type": "stream",
     "text": [
      "system finalized!!!!!!!!!!\n"
     ]
    }
   ],
   "source": [
    "SSsim.finalize()\n",
    "print(\"system finalized!!!!!!!!!!\")"
   ]
  },
  {
   "cell_type": "code",
   "execution_count": 14,
   "id": "064f0bba-2c72-4c6b-861e-f6c3f1af0a01",
   "metadata": {},
   "outputs": [
    {
     "name": "stdout",
     "output_type": "stream",
     "text": [
      "Total steps to take 249999\n"
     ]
    }
   ],
   "source": [
    "#Define simulation time\n",
    "final_time = 10.0\n",
    "total_steps = int(final_time / dt)\n",
    "print(\"Total steps to take\", total_steps)\n",
    "\n",
    "timestepper = PositionVerlet()"
   ]
  },
  {
   "cell_type": "code",
   "execution_count": 15,
   "id": "39cfd2d2-f81a-4a23-a762-14a132f2c8cd",
   "metadata": {},
   "outputs": [
    {
     "name": "stderr",
     "output_type": "stream",
     "text": [
      "100%|██████████| 249999/249999 [00:45<00:00, 5505.76it/s]"
     ]
    },
    {
     "name": "stdout",
     "output_type": "stream",
     "text": [
      "Final time of simulation is :  10.00000000001872\n"
     ]
    },
    {
     "name": "stderr",
     "output_type": "stream",
     "text": [
      "\n"
     ]
    },
    {
     "data": {
      "text/plain": [
       "10.00000000001872"
      ]
     },
     "execution_count": 15,
     "metadata": {},
     "output_type": "execute_result"
    }
   ],
   "source": [
    "#Run simulation\n",
    "integrate(timestepper, SSsim, final_time, total_steps)"
   ]
  },
  {
   "cell_type": "code",
   "execution_count": 16,
   "id": "a958a1a4-1adb-4b34-812a-ed4b17560f61",
   "metadata": {},
   "outputs": [],
   "source": [
    "#Post processing\n",
    "def analytical_result(arg_rod, arg_uniform_force, n_elem=500):\n",
    "    base_length = np.sum(arg_rod.rest_lengths)\n",
    "    arg_s = np.linspace(0.0, base_length, n_elem)\n",
    "\n",
    "    if type(arg_uniform_force) is np.ndarray:\n",
    "        acting_force = arg_uniform_force[np.nonzero(arg_uniform_force)]\n",
    "    else:\n",
    "        acting_force = arg_uniform_force\n",
    "    \n",
    "    acting_force = np.abs(acting_force)\n",
    "    \n",
    "    linear_prefactor = -acting_force / arg_rod.shear_matrix[0, 0, 0]\n",
    "    quadratic_prefactor = (\n",
    "        -acting_force\n",
    "        / 2.0\n",
    "        * np.sum(arg_rod.rest_lengths / arg_rod.bend_matrix[0, 0, 0])\n",
    "    )\n",
    "    cubic_prefactor = (acting_force / 6.0) / arg_rod.bend_matrix[0, 0, 0]\n",
    "    return (\n",
    "        arg_s,\n",
    "        arg_s * linear_prefactor\n",
    "        + arg_s ** 2 * quadratic_prefactor\n",
    "        + arg_s ** 3 * cubic_prefactor,\n",
    "    )"
   ]
  },
  {
   "cell_type": "code",
   "execution_count": 17,
   "id": "9c2e4b71-bfb7-44ba-a81d-de8dc25006b4",
   "metadata": {},
   "outputs": [
    {
     "data": {
      "image/png": "[encoded data removed]",
      "text/plain": [
       "<Figure size 750x600 with 1 Axes>"
      ]
     },
     "metadata": {},
     "output_type": "display_data"
    }
   ],
   "source": [
    "#Plotting\n",
    "def plot_SS(rod, uniform_force):\n",
    "    import matplotlib.pyplot as plt\n",
    "\n",
    "    rod_position = analytical_result(\n",
    "        rod, uniform_force\n",
    "    )\n",
    "\n",
    "    fig = plt.figure(figsize=(5,4), frameon=True, dpi = 150)\n",
    "    ax = fig.add_subplot(111)\n",
    "    ax.grid(which=\"major\", color=\"grey\", linestyle=\"-\", linewidth=0.25)\n",
    "\n",
    "    ax.plot(\n",
    "        rod_position[0],\n",
    "        rod_position[1],\n",
    "        \"b-\",\n",
    "        label=\"SingleSectionMotion\",\n",
    "    )\n",
    "\n",
    "    ax.plot(\n",
    "        rod.position_collection[2, :],\n",
    "        rod.position_collection[0, :],\n",
    "        \"k--\",\n",
    "        label=\"n=\" + str(rod.n_elems),\n",
    "    )\n",
    "\n",
    "    ax.legend(prop={\"size\": 12})\n",
    "    ax.set_ylabel(\"Y Position (m)\", fontsize=12)\n",
    "    ax.set_xlabel(\"X Position (m)\", fontsize=12)\n",
    "    plt.show()\n",
    "\n",
    "plot_SS(rod, uniform_force)"
   ]
  },
  {
   "cell_type": "code",
   "execution_count": null,
   "id": "8db94fb9-44d9-4432-ba75-b337286dd404",
   "metadata": {},
   "outputs": [],
   "source": []
  }
 ],
 "metadata": {
  "kernelspec": {
   "display_name": "Python 3.10 (real-elastica-env)",
   "language": "python",
   "name": "elastica-env"
  },
  "language_info": {
   "codemirror_mode": {
    "name": "ipython",
    "version": 3
   },
   "file_extension": ".py",
   "mimetype": "text/x-python",
   "name": "python",
   "nbconvert_exporter": "python",
   "pygments_lexer": "ipython3",
   "version": "3.10.18"
  }
 },
 "nbformat": 4,
 "nbformat_minor": 5
}
